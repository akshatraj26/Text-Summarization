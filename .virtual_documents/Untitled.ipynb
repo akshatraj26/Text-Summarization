






print(TimestampSigner())


class User(db.Model, UserMixin):
    id = db.Column(db.Integer, primary_key=True)
    name = db.Column(db.String(80), nullable=False)
    username = db.Column(db.String(20), nullable=False, unique=True)
    email = db.Column(db.String(80), nullable=False, unique=True)
    password = db.Column(db.String(80), nullable=False)
    date_created = db.Column(db.DateTime, default = datetime.utcnow)
    
    def get_token(self, expires_sec=300):
        #serial = TimedJSONWebSignatureSerializer(app.config['SECRET_KEY'], expires_in = expires_sec)
        #serial = URLSafeTimedSerializer(app.config['SECRET_KEY'], serializer=TimedSerializer(max_age = expires_sec))
        
        serial = URLSafeTimedSerializer(app.config['SECRET_KEY'], signer=TimestampSigner())
        
        return serial.dumps({'user_id': self.id}, max_age = expires_sec)
    
    @staticmethod
    def verify_token(token):
        serial = URLSafeTimedSerializer(app.config['SECRET_KEY'])
        try:
            user_id = serial.loads(token)['user_id']
        except Exception as e:
            return e
        return User.query.get(user_id)
